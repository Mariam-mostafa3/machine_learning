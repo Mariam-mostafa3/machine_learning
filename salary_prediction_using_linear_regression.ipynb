{
  "nbformat": 4,
  "nbformat_minor": 0,
  "metadata": {
    "colab": {
      "private_outputs": true,
      "provenance": [],
      "authorship_tag": "ABX9TyN6UOZTtgZc8s+5O0fHWyMq",
      "include_colab_link": true
    },
    "kernelspec": {
      "name": "python3",
      "display_name": "Python 3"
    },
    "language_info": {
      "name": "python"
    }
  },
  "cells": [
    {
      "cell_type": "markdown",
      "metadata": {
        "id": "view-in-github",
        "colab_type": "text"
      },
      "source": [
        "<a href=\"https://colab.research.google.com/github/Mariam-mostafa3/machine_learning/blob/main/salary_prediction_using_linear_regression.ipynb\" target=\"_parent\"><img src=\"https://colab.research.google.com/assets/colab-badge.svg\" alt=\"Open In Colab\"/></a>"
      ]
    },
    {
      "cell_type": "code",
      "execution_count": null,
      "metadata": {
        "id": "FlSRxDgNIGyD"
      },
      "outputs": [],
      "source": [
        " #1- import library\n",
        " import pandas as pd  #for data\n",
        " import numpy as np\n",
        " import matplotlib.pyplot as plt  #visualization\n",
        " import seaborn as sns\n",
        " from sklearn.model_selection import train_test_split  #split data\n",
        " from sklearn.linear_model import LinearRegression  #model"
      ]
    },
    {
      "cell_type": "code",
      "source": [
        "#read data\n",
        "data = pd.read_csv(\"/content/Salary_Data.csv\")\n",
        "data.head()  #to print the first 5 rows"
      ],
      "metadata": {
        "id": "PPFidktvLQQO"
      },
      "execution_count": null,
      "outputs": []
    },
    {
      "cell_type": "code",
      "source": [
        "#explore data\n",
        "data.info()"
      ],
      "metadata": {
        "id": "AsrcCGOuLvFb"
      },
      "execution_count": null,
      "outputs": []
    },
    {
      "cell_type": "code",
      "source": [
        "#visualization  of dataset\n",
        "#plotting years experience\n",
        "x=data[\"YearsExperience\"]\n",
        "y=data[\"Salary\"]\n",
        "plt.plot(x)\n",
        "plt.title(\"years experience\")\n",
        "plt.show()"
      ],
      "metadata": {
        "id": "rC4IfRQRL9EJ"
      },
      "execution_count": null,
      "outputs": []
    },
    {
      "cell_type": "code",
      "source": [
        "#plotting salary\n",
        "plt.plot(y)\n",
        "plt.title(\"salary\")\n",
        "plt.show()"
      ],
      "metadata": {
        "id": "9CL3_w54NYut"
      },
      "execution_count": null,
      "outputs": []
    },
    {
      "cell_type": "code",
      "source": [
        "#scattering YearsExperience and \"Salary\"\n",
        "x=data[\"YearsExperience\"]\n",
        "y=data[\"Salary\"]\n",
        "plt.scatter(x,y)\n",
        "plt.xlabel(\"YearsExperience\")\n",
        "plt.ylabel(\"Salary\")\n",
        "plt.suptitle(\"YearsExperience vs Salary\")\n",
        "plt.show()"
      ],
      "metadata": {
        "id": "_Th8xsYmMeBP"
      },
      "execution_count": null,
      "outputs": []
    },
    {
      "cell_type": "code",
      "source": [
        "#-feature\n",
        "features=data[[\"YearsExperience\"]]\n",
        "#label\n",
        "label=data[[\"Salary\"]]\n"
      ],
      "metadata": {
        "id": "wxHODv9UYII-"
      },
      "execution_count": null,
      "outputs": []
    },
    {
      "cell_type": "code",
      "source": [
        "#split data  to train and test  using library skilearn\n",
        "features_train,features_test,label_train,label_test =train_test_split(features,label,test_size=0.2,random_state=20)"
      ],
      "metadata": {
        "id": "R0SwoW_0ZS-j"
      },
      "execution_count": null,
      "outputs": []
    },
    {
      "cell_type": "code",
      "source": [
        "features_train.shape"
      ],
      "metadata": {
        "id": "C55P-DxybaKK"
      },
      "execution_count": null,
      "outputs": []
    },
    {
      "cell_type": "code",
      "source": [
        "features_train"
      ],
      "metadata": {
        "id": "Xy1LQvTE93f3"
      },
      "execution_count": null,
      "outputs": []
    },
    {
      "cell_type": "code",
      "source": [
        "label_train"
      ],
      "metadata": {
        "id": "4ceItD0E96s9"
      },
      "execution_count": null,
      "outputs": []
    },
    {
      "cell_type": "code",
      "source": [
        "features_test"
      ],
      "metadata": {
        "id": "q5aihzQcbNW-"
      },
      "execution_count": null,
      "outputs": []
    },
    {
      "cell_type": "code",
      "source": [
        "label_test"
      ],
      "metadata": {
        "id": "mG7Ri8LMfeof"
      },
      "execution_count": null,
      "outputs": []
    },
    {
      "cell_type": "code",
      "source": [
        "feature_test.shape"
      ],
      "metadata": {
        "id": "wSNQN9tfbkPZ"
      },
      "execution_count": null,
      "outputs": []
    },
    {
      "cell_type": "code",
      "source": [
        "label_train.shape"
      ],
      "metadata": {
        "id": "TA5VRUyIbpnG"
      },
      "execution_count": null,
      "outputs": []
    },
    {
      "cell_type": "code",
      "source": [
        "label_test.shape"
      ],
      "metadata": {
        "id": "8REZK0NBb4ey"
      },
      "execution_count": null,
      "outputs": []
    },
    {
      "cell_type": "code",
      "source": [
        "#7 model training\n",
        "#model call\n",
        "model=LinearRegression()"
      ],
      "metadata": {
        "id": "5g4dMh6DcFR7"
      },
      "execution_count": null,
      "outputs": []
    },
    {
      "cell_type": "code",
      "source": [
        "#fit model  training\n",
        "model.fit(features_train,label_train)"
      ],
      "metadata": {
        "id": "2ej-sxNMelH-"
      },
      "execution_count": null,
      "outputs": []
    },
    {
      "cell_type": "code",
      "source": [
        "#test model\n",
        "prediction=model.predict(features_test)\n",
        "prediction=pd.DataFrame(prediction)\n",
        "prediction"
      ],
      "metadata": {
        "id": "uUEO9ewUfDa6"
      },
      "execution_count": null,
      "outputs": []
    },
    {
      "cell_type": "code",
      "source": [
        "label_test.reset_index(drop = True, inplace = True)  #reset index label_test\n",
        "new_data = pd.concat([label_test, prediction], axis = 1, join = 'inner')  #concat label_test and prediction\n",
        "new_data"
      ],
      "metadata": {
        "id": "nMQPSFRzkSgm"
      },
      "execution_count": null,
      "outputs": []
    }
  ]
}